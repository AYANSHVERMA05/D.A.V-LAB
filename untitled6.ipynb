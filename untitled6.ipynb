{
  "nbformat": 4,
  "nbformat_minor": 0,
  "metadata": {
    "colab": {
      "provenance": [],
      "authorship_tag": "ABX9TyPUzBWM9iL4p8eg0+nmwYB7",
      "include_colab_link": true
    },
    "kernelspec": {
      "name": "python3",
      "display_name": "Python 3"
    },
    "language_info": {
      "name": "python"
    }
  },
  "cells": [
    {
      "cell_type": "markdown",
      "metadata": {
        "id": "view-in-github",
        "colab_type": "text"
      },
      "source": [
        "<a href=\"https://colab.research.google.com/github/AYANSHVERMA05/D.A.V-LAB/blob/main/untitled6.ipynb\" target=\"_parent\"><img src=\"https://colab.research.google.com/assets/colab-badge.svg\" alt=\"Open In Colab\"/></a>"
      ]
    },
    {
      "cell_type": "code",
      "execution_count": null,
      "metadata": {
        "colab": {
          "base_uri": "https://localhost:8080/"
        },
        "id": "EHPehji5VWZ1",
        "outputId": "0c9a6b3f-970c-425d-fa2b-4452ba014d9d"
      },
      "outputs": [
        {
          "output_type": "stream",
          "name": "stdout",
          "text": [
            "   Patient_id   Age     BP\n",
            "0           1  25.0  120.0\n",
            "1           2  30.0    NaN\n",
            "2           3   NaN  110.0\n",
            "3           4  40.0  140.0\n",
            "4           5  50.0    NaN\n"
          ]
        }
      ],
      "source": [
        "import pandas as pd\n",
        "data={'Patient_id':[1,2,3,4,5],\n",
        "      'Age':[25,30,None,40,50],\n",
        "      'BP':[120,None,110,140,None]}\n",
        "df=pd.DataFrame(data)\n",
        "print(df)"
      ]
    },
    {
      "cell_type": "code",
      "source": [
        "import pandas as pd\n",
        "data={\"BP\":[120,None,None,125,None,150]}\n",
        "df=pd.DataFrame(data)\n",
        "df['BP'].fillna(method='ffill',inplace=True)\n",
        "print(df)"
      ],
      "metadata": {
        "colab": {
          "base_uri": "https://localhost:8080/"
        },
        "id": "HxhDLJgRYJ3E",
        "outputId": "44e857d5-b581-4ee1-9f6f-3f035aed7000"
      },
      "execution_count": null,
      "outputs": [
        {
          "output_type": "stream",
          "name": "stdout",
          "text": [
            "      BP\n",
            "0  120.0\n",
            "1  120.0\n",
            "2  120.0\n",
            "3  125.0\n",
            "4  125.0\n",
            "5  150.0\n"
          ]
        },
        {
          "output_type": "stream",
          "name": "stderr",
          "text": [
            "/tmp/ipython-input-3211737264.py:4: FutureWarning: A value is trying to be set on a copy of a DataFrame or Series through chained assignment using an inplace method.\n",
            "The behavior will change in pandas 3.0. This inplace method will never work because the intermediate object on which we are setting values always behaves as a copy.\n",
            "\n",
            "For example, when doing 'df[col].method(value, inplace=True)', try using 'df.method({col: value}, inplace=True)' or df[col] = df[col].method(value) instead, to perform the operation inplace on the original object.\n",
            "\n",
            "\n",
            "  df['BP'].fillna(method='ffill',inplace=True)\n",
            "/tmp/ipython-input-3211737264.py:4: FutureWarning: Series.fillna with 'method' is deprecated and will raise in a future version. Use obj.ffill() or obj.bfill() instead.\n",
            "  df['BP'].fillna(method='ffill',inplace=True)\n"
          ]
        }
      ]
    },
    {
      "cell_type": "code",
      "source": [
        "import pandas as pd\n",
        "sales = pd.DataFrame({\n",
        "    'OrderId': [101, 102, 103,101],\n",
        "    'Product': ['Mobile','Laptop','Tablet','Mobile'],\n",
        "    'Amount': [20000, 50000, 15000, 20000],\n",
        "})\n",
        "print(sales.duplicated())\n",
        "sales_df=sales.drop_duplicates()\n",
        "print(sales_df)"
      ],
      "metadata": {
        "colab": {
          "base_uri": "https://localhost:8080/"
        },
        "id": "gNDJ4_Orabd9",
        "outputId": "477c92e4-fa4d-49ba-e196-1bc932afdca5"
      },
      "execution_count": null,
      "outputs": [
        {
          "output_type": "stream",
          "name": "stdout",
          "text": [
            "0    False\n",
            "1    False\n",
            "2    False\n",
            "3     True\n",
            "dtype: bool\n",
            "   OrderId Product  Amount\n",
            "0      101  Mobile   20000\n",
            "1      102  Laptop   50000\n",
            "2      103  Tablet   15000\n"
          ]
        }
      ]
    },
    {
      "cell_type": "code",
      "source": [],
      "metadata": {
        "id": "2IN3DEN-eBBo"
      },
      "execution_count": null,
      "outputs": []
    }
  ]
}